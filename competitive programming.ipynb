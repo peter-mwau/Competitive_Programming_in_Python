{
 "cells": [
  {
   "cell_type": "code",
   "execution_count": 10,
   "id": "6bccec81",
   "metadata": {},
   "outputs": [
    {
     "name": "stdout",
     "output_type": "stream",
     "text": [
      "9 2 8 "
     ]
    }
   ],
   "source": [
    "def FirstGen():\n",
    "    yield 9\n",
    "    yield 2\n",
    "    yield 8\n",
    "for i in FirstGen():\n",
    "    print(i,end=\" \")"
   ]
  },
  {
   "cell_type": "code",
   "execution_count": 2,
   "id": "a6048684",
   "metadata": {},
   "outputs": [
    {
     "name": "stdout",
     "output_type": "stream",
     "text": [
      "100000\n",
      "Time taken by the code: 0.09560132026672363 seconds.\n"
     ]
    }
   ],
   "source": [
    "import time\n",
    "start_time = time.time()\n",
    " \n",
    "def get_square(x):\n",
    "    return x**2\n",
    "l1 = [i for i in range(100000)]\n",
    "l2 = []\n",
    "for i in l1:\n",
    "    l2.append(get_square(i))\n",
    "print(len(l2))\n",
    " \n",
    "print(\"Time taken by the code: %s seconds.\"% (time.time() - start_time))\n"
   ]
  },
  {
   "cell_type": "code",
   "execution_count": 3,
   "id": "c8bdb9a0",
   "metadata": {},
   "outputs": [
    {
     "name": "stdout",
     "output_type": "stream",
     "text": [
      "100000\n",
      "Time taken by the code: 0.09560799598693848 seconds.\n"
     ]
    }
   ],
   "source": [
    "import time\n",
    "start_time = time.time()\n",
    " \n",
    "def get_square(x):\n",
    "    return x**2\n",
    "l1 = [i for i in range(100000)]\n",
    "l2 = list(map(get_square,l1))\n",
    "print(len(l2))\n",
    " \n",
    "print(\"Time taken by the code: %s seconds.\"% (time.time() - start_time))\n"
   ]
  },
  {
   "cell_type": "code",
   "execution_count": 4,
   "id": "66ed0ea9",
   "metadata": {},
   "outputs": [
    {
     "name": "stdout",
     "output_type": "stream",
     "text": [
      "[(1, 2, 3), (1, 3, 2), (2, 1, 3), (2, 3, 1), (3, 1, 2), (3, 2, 1)]\n"
     ]
    }
   ],
   "source": [
    "import itertools\n",
    "x = list(itertools.permutations([1,2,3]))\n",
    "print(x)"
   ]
  },
  {
   "cell_type": "code",
   "execution_count": 8,
   "id": "e69a15dc",
   "metadata": {},
   "outputs": [
    {
     "name": "stdout",
     "output_type": "stream",
     "text": [
      "Enter all the elements: 2\n",
      "[2]\n"
     ]
    }
   ],
   "source": [
    "l1 = list(map(int,input(\"Enter all the elements: \").split()))\n",
    "print(l1)"
   ]
  },
  {
   "cell_type": "code",
   "execution_count": 9,
   "id": "99e6ee62",
   "metadata": {},
   "outputs": [
    {
     "name": "stdout",
     "output_type": "stream",
     "text": [
      "38890\n",
      "Time taken by the code: 0.014403343200683594 seconds.\n"
     ]
    }
   ],
   "source": [
    "import time\n",
    "start_time = time.time()\n",
    "l = [str(i) for i in range(10000)]\n",
    "st=\"\"\n",
    "for i in l:\n",
    "    st+=i\n",
    "print(len(st))\n",
    "print(\"Time taken by the code: %s seconds.\"% (time.time() - start_time))\n"
   ]
  }
 ],
 "metadata": {
  "kernelspec": {
   "display_name": "Python 3 (ipykernel)",
   "language": "python",
   "name": "python3"
  },
  "language_info": {
   "codemirror_mode": {
    "name": "ipython",
    "version": 3
   },
   "file_extension": ".py",
   "mimetype": "text/x-python",
   "name": "python",
   "nbconvert_exporter": "python",
   "pygments_lexer": "ipython3",
   "version": "3.10.6"
  }
 },
 "nbformat": 4,
 "nbformat_minor": 5
}
